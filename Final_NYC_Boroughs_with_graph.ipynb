{
  "nbformat": 4,
  "nbformat_minor": 0,
  "metadata": {
    "colab": {
      "name": "Final_NYC_Boroughs_with_graph.ipynb",
      "version": "0.3.2",
      "provenance": [],
      "collapsed_sections": [],
      "toc_visible": true,
      "include_colab_link": true
    },
    "kernelspec": {
      "name": "python3",
      "display_name": "Python 3"
    },
    "accelerator": "GPU"
  },
  "cells": [
    {
      "cell_type": "markdown",
      "metadata": {
        "id": "view-in-github",
        "colab_type": "text"
      },
      "source": [
        "<a href=\"https://colab.research.google.com/github/shihanrehman/DBRS_InterviewChallenge_2/blob/master/Final_NYC_Boroughs_with_graph.ipynb\" target=\"_parent\"><img src=\"https://colab.research.google.com/assets/colab-badge.svg\" alt=\"Open In Colab\"/></a>"
      ]
    },
    {
      "metadata": {
        "id": "q4TMyzgLzOOA",
        "colab_type": "text"
      },
      "cell_type": "markdown",
      "source": [
        "### Start (Load the CSV File)<br>\n",
        "\n",
        "load libraries and download *.csv"
      ]
    },
    {
      "metadata": {
        "id": "jB8VkXZRkqwF",
        "colab_type": "code",
        "colab": {
          "base_uri": "https://localhost:8080/",
          "height": 129
        },
        "outputId": "71aa7d60-1e4a-43d8-89ca-3fdff9f9a5c9"
      },
      "cell_type": "code",
      "source": [
        "#import libraries\n",
        "\n",
        "import warnings\n",
        "warnings.filterwarnings('ignore')\n",
        "\n",
        "import pandas as pd\n",
        "import numpy as np\n",
        "!pip3 install pygeocoder\n",
        "from pygeocoder import Geocoder\n",
        "\n",
        "import matplotlib.pyplot as plt\n",
        "%matplotlib inline\n",
        "\n",
        "import os"
      ],
      "execution_count": 102,
      "outputs": [
        {
          "output_type": "stream",
          "text": [
            "Requirement already satisfied: pygeocoder in /usr/local/lib/python3.6/dist-packages (1.2.5)\n",
            "Requirement already satisfied: requests>=1.0 in /usr/local/lib/python3.6/dist-packages (from pygeocoder) (2.18.4)\n",
            "Requirement already satisfied: urllib3<1.23,>=1.21.1 in /usr/local/lib/python3.6/dist-packages (from requests>=1.0->pygeocoder) (1.22)\n",
            "Requirement already satisfied: chardet<3.1.0,>=3.0.2 in /usr/local/lib/python3.6/dist-packages (from requests>=1.0->pygeocoder) (3.0.4)\n",
            "Requirement already satisfied: certifi>=2017.4.17 in /usr/local/lib/python3.6/dist-packages (from requests>=1.0->pygeocoder) (2018.11.29)\n",
            "Requirement already satisfied: idna<2.7,>=2.5 in /usr/local/lib/python3.6/dist-packages (from requests>=1.0->pygeocoder) (2.6)\n"
          ],
          "name": "stdout"
        }
      ]
    },
    {
      "metadata": {
        "id": "E7WyHPMrkqwb",
        "colab_type": "code",
        "outputId": "c0d73719-58fe-464a-faf8-5a9bba2ab963",
        "colab": {
          "base_uri": "https://localhost:8080/",
          "height": 36
        }
      },
      "cell_type": "code",
      "source": [
        "print ('Pandas version is:', pd.__version__) "
      ],
      "execution_count": 103,
      "outputs": [
        {
          "output_type": "stream",
          "text": [
            "Pandas version is: 0.22.0\n"
          ],
          "name": "stdout"
        }
      ]
    },
    {
      "metadata": {
        "id": "lyA0ny79AurZ",
        "colab_type": "text"
      },
      "cell_type": "markdown",
      "source": [
        "Let's download ZipCode_Population.csv & Complaints_2017data.rar, rename and unrar it."
      ]
    },
    {
      "metadata": {
        "id": "uMouPMWwlShZ",
        "colab_type": "code",
        "outputId": "10aac4b7-b146-4c0a-f4ac-4902889b76d3",
        "colab": {
          "base_uri": "https://localhost:8080/",
          "height": 36
        }
      },
      "cell_type": "code",
      "source": [
        "current_dir_files = os.listdir('.')\n",
        "print (current_dir_files)"
      ],
      "execution_count": 104,
      "outputs": [
        {
          "output_type": "stream",
          "text": [
            "['.config', '10_most_overall_Complaint types_for_Borough_2017.csv', '311_Service_Requests_from_2010_to_Present.csv', 'Lat_Longit.csv', 'ZipCode_Population.csv', 'Lat_Long.csv', 'Complaints_2017data.rar', 'sample_data']\n"
          ],
          "name": "stdout"
        }
      ]
    },
    {
      "metadata": {
        "id": "Y4GMX7GymFyR",
        "colab_type": "code",
        "colab": {}
      },
      "cell_type": "code",
      "source": [
        "if '311_Service_Requests_from_2010_to_Present.csv' not in current_dir_files:\n",
        "  \n",
        "  !wget –q 'https://www.dropbox.com/s/ipa7s8gxx5vuoi3/Complaints_2017data.rar?dl=1'\n",
        "  os.rename ('Complaints_2017data.rar?dl=1', 'Complaints_2017data.rar')\n",
        "  !unrar e -inul -y 'Complaints_2017data.rar'"
      ],
      "execution_count": 0,
      "outputs": []
    },
    {
      "metadata": {
        "id": "_BQ62CizlZfF",
        "colab_type": "code",
        "colab": {}
      },
      "cell_type": "code",
      "source": [
        "if 'ZipCode_Population.csv' not in current_dir_files:\n",
        "  \n",
        "  !wget -q 'https://www.dropbox.com/s/10lcdkz0u3y0ppy/ZipCode_Population.csv?dl=1'\n",
        "  os.rename ('ZipCode_Population.csv?dl=1', 'ZipCode_Population.csv')"
      ],
      "execution_count": 0,
      "outputs": []
    },
    {
      "metadata": {
        "id": "RTlvcocdkqwr",
        "colab_type": "code",
        "outputId": "eab7aef0-e637-41f3-b944-972e4936019b",
        "colab": {
          "base_uri": "https://localhost:8080/",
          "height": 263
        }
      },
      "cell_type": "code",
      "source": [
        "# Lets look at the data and analyze it.  \n",
        "\n",
        "data = pd.read_csv('311_Service_Requests_from_2010_to_Present.csv', header = 0, nrows=10)\n",
        "data.head(2)"
      ],
      "execution_count": 107,
      "outputs": [
        {
          "output_type": "execute_result",
          "data": {
            "text/html": [
              "<div>\n",
              "<style scoped>\n",
              "    .dataframe tbody tr th:only-of-type {\n",
              "        vertical-align: middle;\n",
              "    }\n",
              "\n",
              "    .dataframe tbody tr th {\n",
              "        vertical-align: top;\n",
              "    }\n",
              "\n",
              "    .dataframe thead th {\n",
              "        text-align: right;\n",
              "    }\n",
              "</style>\n",
              "<table border=\"1\" class=\"dataframe\">\n",
              "  <thead>\n",
              "    <tr style=\"text-align: right;\">\n",
              "      <th></th>\n",
              "      <th>Unique Key</th>\n",
              "      <th>Created Date</th>\n",
              "      <th>Closed Date</th>\n",
              "      <th>Agency</th>\n",
              "      <th>Agency Name</th>\n",
              "      <th>Complaint Type</th>\n",
              "      <th>Descriptor</th>\n",
              "      <th>Location Type</th>\n",
              "      <th>Incident Zip</th>\n",
              "      <th>Incident Address</th>\n",
              "      <th>...</th>\n",
              "      <th>Vehicle Type</th>\n",
              "      <th>Taxi Company Borough</th>\n",
              "      <th>Taxi Pick Up Location</th>\n",
              "      <th>Bridge Highway Name</th>\n",
              "      <th>Bridge Highway Direction</th>\n",
              "      <th>Road Ramp</th>\n",
              "      <th>Bridge Highway Segment</th>\n",
              "      <th>Latitude</th>\n",
              "      <th>Longitude</th>\n",
              "      <th>Location</th>\n",
              "    </tr>\n",
              "  </thead>\n",
              "  <tbody>\n",
              "    <tr>\n",
              "      <th>0</th>\n",
              "      <td>37188206</td>\n",
              "      <td>09/14/2017 04:40:33 PM</td>\n",
              "      <td>10/19/2018 07:30:48 AM</td>\n",
              "      <td>DPR</td>\n",
              "      <td>Department of Parks and Recreation</td>\n",
              "      <td>New Tree Request</td>\n",
              "      <td>For One Address</td>\n",
              "      <td>Street</td>\n",
              "      <td>11374</td>\n",
              "      <td>63-11 WETHEROLE STREET</td>\n",
              "      <td>...</td>\n",
              "      <td>NaN</td>\n",
              "      <td>NaN</td>\n",
              "      <td>NaN</td>\n",
              "      <td>NaN</td>\n",
              "      <td>NaN</td>\n",
              "      <td>NaN</td>\n",
              "      <td>NaN</td>\n",
              "      <td>40.728620</td>\n",
              "      <td>-73.865295</td>\n",
              "      <td>(40.728619539832, -73.865295234063)</td>\n",
              "    </tr>\n",
              "    <tr>\n",
              "      <th>1</th>\n",
              "      <td>35735866</td>\n",
              "      <td>03/18/2017 10:09:57 AM</td>\n",
              "      <td>10/19/2018 12:00:00 AM</td>\n",
              "      <td>DOB</td>\n",
              "      <td>Department of Buildings</td>\n",
              "      <td>General Construction/Plumbing</td>\n",
              "      <td>Curb Cut/Driveway/Carport - Illegal</td>\n",
              "      <td>NaN</td>\n",
              "      <td>11420</td>\n",
              "      <td>111-36 LEFFERTS BOULEVARD</td>\n",
              "      <td>...</td>\n",
              "      <td>NaN</td>\n",
              "      <td>NaN</td>\n",
              "      <td>NaN</td>\n",
              "      <td>NaN</td>\n",
              "      <td>NaN</td>\n",
              "      <td>NaN</td>\n",
              "      <td>NaN</td>\n",
              "      <td>40.680213</td>\n",
              "      <td>-73.821227</td>\n",
              "      <td>(40.680213167851, -73.821227012238)</td>\n",
              "    </tr>\n",
              "  </tbody>\n",
              "</table>\n",
              "<p>2 rows × 41 columns</p>\n",
              "</div>"
            ],
            "text/plain": [
              "   Unique Key            Created Date             Closed Date Agency  \\\n",
              "0    37188206  09/14/2017 04:40:33 PM  10/19/2018 07:30:48 AM    DPR   \n",
              "1    35735866  03/18/2017 10:09:57 AM  10/19/2018 12:00:00 AM    DOB   \n",
              "\n",
              "                          Agency Name                 Complaint Type  \\\n",
              "0  Department of Parks and Recreation               New Tree Request   \n",
              "1             Department of Buildings  General Construction/Plumbing   \n",
              "\n",
              "                            Descriptor Location Type  Incident Zip  \\\n",
              "0                      For One Address        Street         11374   \n",
              "1  Curb Cut/Driveway/Carport - Illegal           NaN         11420   \n",
              "\n",
              "            Incident Address                 ...                   \\\n",
              "0     63-11 WETHEROLE STREET                 ...                    \n",
              "1  111-36 LEFFERTS BOULEVARD                 ...                    \n",
              "\n",
              "  Vehicle Type Taxi Company Borough Taxi Pick Up Location  \\\n",
              "0          NaN                  NaN                   NaN   \n",
              "1          NaN                  NaN                   NaN   \n",
              "\n",
              "   Bridge Highway Name  Bridge Highway Direction Road Ramp  \\\n",
              "0                  NaN                       NaN       NaN   \n",
              "1                  NaN                       NaN       NaN   \n",
              "\n",
              "  Bridge Highway Segment   Latitude  Longitude  \\\n",
              "0                    NaN  40.728620 -73.865295   \n",
              "1                    NaN  40.680213 -73.821227   \n",
              "\n",
              "                              Location  \n",
              "0  (40.728619539832, -73.865295234063)  \n",
              "1  (40.680213167851, -73.821227012238)  \n",
              "\n",
              "[2 rows x 41 columns]"
            ]
          },
          "metadata": {
            "tags": []
          },
          "execution_count": 107
        }
      ]
    },
    {
      "metadata": {
        "id": "mv3Vf-wFkqw6",
        "colab_type": "code",
        "outputId": "3f387b8d-a4c9-4aa5-dcd8-18d881765f34",
        "colab": {
          "base_uri": "https://localhost:8080/",
          "height": 223
        }
      },
      "cell_type": "code",
      "source": [
        "print ('Columns: ', data.columns.values)"
      ],
      "execution_count": 108,
      "outputs": [
        {
          "output_type": "stream",
          "text": [
            "Columns:  ['Unique Key' 'Created Date' 'Closed Date' 'Agency' 'Agency Name'\n",
            " 'Complaint Type' 'Descriptor' 'Location Type' 'Incident Zip'\n",
            " 'Incident Address' 'Street Name' 'Cross Street 1' 'Cross Street 2'\n",
            " 'Intersection Street 1' 'Intersection Street 2' 'Address Type' 'City'\n",
            " 'Landmark' 'Facility Type' 'Status' 'Due Date' 'Resolution Description'\n",
            " 'Resolution Action Updated Date' 'Community Board' 'BBL' 'Borough'\n",
            " 'X Coordinate (State Plane)' 'Y Coordinate (State Plane)'\n",
            " 'Open Data Channel Type' 'Park Facility Name' 'Park Borough'\n",
            " 'Vehicle Type' 'Taxi Company Borough' 'Taxi Pick Up Location'\n",
            " 'Bridge Highway Name' 'Bridge Highway Direction' 'Road Ramp'\n",
            " 'Bridge Highway Segment' 'Latitude' 'Longitude' 'Location']\n"
          ],
          "name": "stdout"
        }
      ]
    },
    {
      "metadata": {
        "id": "29rjSpeukqxF",
        "colab_type": "text"
      },
      "cell_type": "markdown",
      "source": [
        "###Part A - Validate and clean the data, and ensure that it is from 2017\n",
        "\n",
        "[link text](https://)\n"
      ]
    },
    {
      "metadata": {
        "id": "pJxFtHB_kqxM",
        "colab_type": "text"
      },
      "cell_type": "markdown",
      "source": [
        "Create a script that grabs data from the CSV using the Pandas library. "
      ]
    },
    {
      "metadata": {
        "id": "JrrBNPWmkqxP",
        "colab_type": "code",
        "colab": {}
      },
      "cell_type": "code",
      "source": [
        "col_names = ['Complaint Type', 'Borough', 'Created Date', 'Incident Zip', 'Latitude', 'Longitude']\n",
        "data = pd.read_csv('311_Service_Requests_from_2010_to_Present.csv', header = 0, usecols = col_names)\n",
        "data #display the first 2 rows"
      ],
      "execution_count": 0,
      "outputs": []
    },
    {
      "metadata": {
        "id": "r_wwon1D30Uz",
        "colab_type": "code",
        "colab": {}
      },
      "cell_type": "code",
      "source": [
        "#to clean up the unspecified boroughs, create a mapping of lookup values.  \n",
        "mapping = (data.query('Borough != \"Unspecified\"')\n",
        "             .drop_duplicates('Incident Zip')\n",
        "             .set_index('Incident Zip')\n",
        "             .Borough)\n",
        "mapping"
      ],
      "execution_count": 0,
      "outputs": []
    },
    {
      "metadata": {
        "id": "poYboz-jhRCN",
        "colab_type": "code",
        "colab": {}
      },
      "cell_type": "code",
      "source": [
        "data['Borough'] = data['Incident Zip'].map(mapping).fillna('Unspecified')\n",
        "data.head(80)"
      ],
      "execution_count": 0,
      "outputs": []
    },
    {
      "metadata": {
        "id": "S83DvS8f3wjv",
        "colab_type": "code",
        "colab": {}
      },
      "cell_type": "code",
      "source": [
        "data_unspecified = data[data['Borough'] == 'Unspecified']\n",
        "data_unspecified\n",
        "#There are not 996 Unspecified records belonging to boroughs"
      ],
      "execution_count": 0,
      "outputs": []
    },
    {
      "metadata": {
        "id": "bj8ClZJLdCXy",
        "colab_type": "code",
        "colab": {}
      },
      "cell_type": "code",
      "source": [
        "#if you do want to reverse geocode Latiutude and Longitude into Zipcodes, use the following code below, however, you need an API key and there are costs incurred with this.  \n",
        "#results = Geocoder.reverse_geocode(data_unspecified['Latitude'].iloc[0], data_unspecified['Longitude'].iloc[0])"
      ],
      "execution_count": 0,
      "outputs": []
    },
    {
      "metadata": {
        "id": "g_ZYh5Swkqxe",
        "colab_type": "code",
        "outputId": "c7ad261a-1aa4-4c65-9984-93b4927fd12c",
        "colab": {
          "base_uri": "https://localhost:8080/",
          "height": 36
        }
      },
      "cell_type": "code",
      "source": [
        "print (\"data DataFrame's shape is: \", data.shape)"
      ],
      "execution_count": 114,
      "outputs": [
        {
          "output_type": "stream",
          "text": [
            "data DataFrame's shape is:  (2461176, 6)\n"
          ],
          "name": "stdout"
        }
      ]
    },
    {
      "metadata": {
        "id": "BODvKeKekqxu",
        "colab_type": "code",
        "outputId": "98016b15-2338-4b5e-dfc1-96d3ec51167f",
        "colab": {
          "base_uri": "https://localhost:8080/",
          "height": 54
        }
      },
      "cell_type": "code",
      "source": [
        "# Unique values in 'Borough' column\n",
        "\n",
        "data.Borough.unique()"
      ],
      "execution_count": 115,
      "outputs": [
        {
          "output_type": "execute_result",
          "data": {
            "text/plain": [
              "array(['QUEENS', 'BROOKLYN', 'MANHATTAN', 'BRONX', 'STATEN ISLAND',\n",
              "       'Unspecified'], dtype=object)"
            ]
          },
          "metadata": {
            "tags": []
          },
          "execution_count": 115
        }
      ]
    },
    {
      "metadata": {
        "id": "kwaL3YGRkqyt",
        "colab_type": "code",
        "outputId": "32701546-38e5-4925-9437-fc387153513f",
        "colab": {
          "base_uri": "https://localhost:8080/",
          "height": 54
        }
      },
      "cell_type": "code",
      "source": [
        "# Let's look at column 'Created Date'\n",
        "\n",
        "print (data['Created Date'].min())\n",
        "print (np.sort(data['Created Date'].unique())[:2])"
      ],
      "execution_count": 116,
      "outputs": [
        {
          "output_type": "stream",
          "text": [
            "01/01/2017 01:00:17 AM\n",
            "['01/01/2017 01:00:17 AM' '01/01/2017 01:00:26 AM']\n"
          ],
          "name": "stdout"
        }
      ]
    },
    {
      "metadata": {
        "id": "5T-_7rhUkqy4",
        "colab_type": "text"
      },
      "cell_type": "markdown",
      "source": [
        "minimal data & time in column 'Created Date' is the beginning of 2017 year<br>\n",
        "it satisfies the condition: Created Date (Should all be from 2017)"
      ]
    },
    {
      "metadata": {
        "id": "7fzg1yyVSQgk",
        "colab_type": "code",
        "outputId": "d4b0f6e0-8ae2-462a-89aa-3cf2537f68ea",
        "colab": {
          "base_uri": "https://localhost:8080/",
          "height": 36
        }
      },
      "cell_type": "code",
      "source": [
        "print (data['Created Date'].max())\n"
      ],
      "execution_count": 117,
      "outputs": [
        {
          "output_type": "stream",
          "text": [
            "12/31/2017 12:59:35 PM\n"
          ],
          "name": "stdout"
        }
      ]
    },
    {
      "metadata": {
        "id": "XxHji2SAkqy6",
        "colab_type": "text"
      },
      "cell_type": "markdown",
      "source": [
        "###Part B - Find the 10 most common overall “Complaint types” for the year 2017 "
      ]
    },
    {
      "metadata": {
        "id": "RAM3FVmlkqy8",
        "colab_type": "code",
        "outputId": "da8d785f-3cbd-4fd1-b63b-1f4853bcaeb9",
        "colab": {
          "base_uri": "https://localhost:8080/",
          "height": 223
        }
      },
      "cell_type": "code",
      "source": [
        "data['Complaint Type'].value_counts()[:10]"
      ],
      "execution_count": 118,
      "outputs": [
        {
          "output_type": "execute_result",
          "data": {
            "text/plain": [
              "Noise - Residential        230152\n",
              "HEAT/HOT WATER             213521\n",
              "Illegal Parking            146122\n",
              "Blocked Driveway           136097\n",
              "Street Condition            93265\n",
              "Street Light Condition      84195\n",
              "UNSANITARY CONDITION        79282\n",
              "Noise - Street/Sidewalk     73085\n",
              "Water System                65100\n",
              "Noise                       60171\n",
              "Name: Complaint Type, dtype: int64"
            ]
          },
          "metadata": {
            "tags": []
          },
          "execution_count": 118
        }
      ]
    },
    {
      "metadata": {
        "id": "UFTmFm7SkqzS",
        "colab_type": "text"
      },
      "cell_type": "markdown",
      "source": [
        "###Part C - How many of each of those 10 types were there in 2017, for each borough?"
      ]
    },
    {
      "metadata": {
        "id": "QZ3_RnemkqzX",
        "colab_type": "code",
        "outputId": "51a40479-22c5-47ff-b93e-8268147d6463",
        "colab": {
          "base_uri": "https://localhost:8080/",
          "height": 1010
        }
      },
      "cell_type": "code",
      "source": [
        "# How many of each of those 10 types were there in 2017, for each borough?\n",
        "\n",
        "com_top_10 = data['Complaint Type'].value_counts()[:10].index\n",
        "temp_df = data[data['Complaint Type'].isin(com_top_10)].groupby(['Borough'])['Complaint Type'].value_counts()\n",
        "temp_df"
      ],
      "execution_count": 119,
      "outputs": [
        {
          "output_type": "execute_result",
          "data": {
            "text/plain": [
              "Borough        Complaint Type         \n",
              "BRONX          HEAT/HOT WATER             69085\n",
              "               Noise - Residential        57928\n",
              "               UNSANITARY CONDITION       24730\n",
              "               Blocked Driveway           24632\n",
              "               Illegal Parking            16244\n",
              "               Noise - Street/Sidewalk    14109\n",
              "               Street Condition           11181\n",
              "               Water System                9996\n",
              "               Street Light Condition      8421\n",
              "               Noise                       3057\n",
              "BROOKLYN       Noise - Residential        67677\n",
              "               HEAT/HOT WATER             66977\n",
              "               Illegal Parking            55478\n",
              "               Blocked Driveway           49390\n",
              "               UNSANITARY CONDITION       26654\n",
              "               Street Condition           24890\n",
              "               Noise - Street/Sidewalk    21321\n",
              "               Water System               19512\n",
              "               Noise                      15235\n",
              "               Street Light Condition     14558\n",
              "MANHATTAN      Noise - Residential        50814\n",
              "               HEAT/HOT WATER             46156\n",
              "               Noise - Street/Sidewalk    29076\n",
              "               Noise                      28753\n",
              "               Illegal Parking            19626\n",
              "               Street Condition           14471\n",
              "               UNSANITARY CONDITION       14458\n",
              "               Water System               10646\n",
              "               Blocked Driveway            3390\n",
              "               Street Light Condition      2044\n",
              "QUEENS         Blocked Driveway           54891\n",
              "               Street Light Condition     52506\n",
              "               Illegal Parking            46714\n",
              "               Noise - Residential        46695\n",
              "               Street Condition           32372\n",
              "               HEAT/HOT WATER             29230\n",
              "               Water System               19674\n",
              "               UNSANITARY CONDITION       11489\n",
              "               Noise                      11220\n",
              "               Noise - Street/Sidewalk     7712\n",
              "STATEN ISLAND  Street Condition           10351\n",
              "               Illegal Parking             8060\n",
              "               Noise - Residential         7037\n",
              "               Street Light Condition      6666\n",
              "               Water System                5272\n",
              "               Blocked Driveway            3794\n",
              "               HEAT/HOT WATER              2073\n",
              "               UNSANITARY CONDITION        1951\n",
              "               Noise                       1906\n",
              "               Noise - Street/Sidewalk      867\n",
              "Unspecified    Noise - Residential            1\n",
              "Name: Complaint Type, dtype: int64"
            ]
          },
          "metadata": {
            "tags": []
          },
          "execution_count": 119
        }
      ]
    },
    {
      "metadata": {
        "id": "GJc1CdUikqzp",
        "colab_type": "code",
        "outputId": "5049cea6-00a7-4bbb-c56c-20c6b93a991d",
        "colab": {
          "base_uri": "https://localhost:8080/",
          "height": 269
        }
      },
      "cell_type": "code",
      "source": [
        "# How many of each of those 10 types were there in 2017, for each borough?\n",
        "# The same data in another, more visual view\n",
        "\n",
        "temp_df.unstack().fillna(0)"
      ],
      "execution_count": 120,
      "outputs": [
        {
          "output_type": "execute_result",
          "data": {
            "text/html": [
              "<div>\n",
              "<style scoped>\n",
              "    .dataframe tbody tr th:only-of-type {\n",
              "        vertical-align: middle;\n",
              "    }\n",
              "\n",
              "    .dataframe tbody tr th {\n",
              "        vertical-align: top;\n",
              "    }\n",
              "\n",
              "    .dataframe thead th {\n",
              "        text-align: right;\n",
              "    }\n",
              "</style>\n",
              "<table border=\"1\" class=\"dataframe\">\n",
              "  <thead>\n",
              "    <tr style=\"text-align: right;\">\n",
              "      <th>Complaint Type</th>\n",
              "      <th>Blocked Driveway</th>\n",
              "      <th>HEAT/HOT WATER</th>\n",
              "      <th>Illegal Parking</th>\n",
              "      <th>Noise</th>\n",
              "      <th>Noise - Residential</th>\n",
              "      <th>Noise - Street/Sidewalk</th>\n",
              "      <th>Street Condition</th>\n",
              "      <th>Street Light Condition</th>\n",
              "      <th>UNSANITARY CONDITION</th>\n",
              "      <th>Water System</th>\n",
              "    </tr>\n",
              "    <tr>\n",
              "      <th>Borough</th>\n",
              "      <th></th>\n",
              "      <th></th>\n",
              "      <th></th>\n",
              "      <th></th>\n",
              "      <th></th>\n",
              "      <th></th>\n",
              "      <th></th>\n",
              "      <th></th>\n",
              "      <th></th>\n",
              "      <th></th>\n",
              "    </tr>\n",
              "  </thead>\n",
              "  <tbody>\n",
              "    <tr>\n",
              "      <th>BRONX</th>\n",
              "      <td>24632.0</td>\n",
              "      <td>69085.0</td>\n",
              "      <td>16244.0</td>\n",
              "      <td>3057.0</td>\n",
              "      <td>57928.0</td>\n",
              "      <td>14109.0</td>\n",
              "      <td>11181.0</td>\n",
              "      <td>8421.0</td>\n",
              "      <td>24730.0</td>\n",
              "      <td>9996.0</td>\n",
              "    </tr>\n",
              "    <tr>\n",
              "      <th>BROOKLYN</th>\n",
              "      <td>49390.0</td>\n",
              "      <td>66977.0</td>\n",
              "      <td>55478.0</td>\n",
              "      <td>15235.0</td>\n",
              "      <td>67677.0</td>\n",
              "      <td>21321.0</td>\n",
              "      <td>24890.0</td>\n",
              "      <td>14558.0</td>\n",
              "      <td>26654.0</td>\n",
              "      <td>19512.0</td>\n",
              "    </tr>\n",
              "    <tr>\n",
              "      <th>MANHATTAN</th>\n",
              "      <td>3390.0</td>\n",
              "      <td>46156.0</td>\n",
              "      <td>19626.0</td>\n",
              "      <td>28753.0</td>\n",
              "      <td>50814.0</td>\n",
              "      <td>29076.0</td>\n",
              "      <td>14471.0</td>\n",
              "      <td>2044.0</td>\n",
              "      <td>14458.0</td>\n",
              "      <td>10646.0</td>\n",
              "    </tr>\n",
              "    <tr>\n",
              "      <th>QUEENS</th>\n",
              "      <td>54891.0</td>\n",
              "      <td>29230.0</td>\n",
              "      <td>46714.0</td>\n",
              "      <td>11220.0</td>\n",
              "      <td>46695.0</td>\n",
              "      <td>7712.0</td>\n",
              "      <td>32372.0</td>\n",
              "      <td>52506.0</td>\n",
              "      <td>11489.0</td>\n",
              "      <td>19674.0</td>\n",
              "    </tr>\n",
              "    <tr>\n",
              "      <th>STATEN ISLAND</th>\n",
              "      <td>3794.0</td>\n",
              "      <td>2073.0</td>\n",
              "      <td>8060.0</td>\n",
              "      <td>1906.0</td>\n",
              "      <td>7037.0</td>\n",
              "      <td>867.0</td>\n",
              "      <td>10351.0</td>\n",
              "      <td>6666.0</td>\n",
              "      <td>1951.0</td>\n",
              "      <td>5272.0</td>\n",
              "    </tr>\n",
              "    <tr>\n",
              "      <th>Unspecified</th>\n",
              "      <td>0.0</td>\n",
              "      <td>0.0</td>\n",
              "      <td>0.0</td>\n",
              "      <td>0.0</td>\n",
              "      <td>1.0</td>\n",
              "      <td>0.0</td>\n",
              "      <td>0.0</td>\n",
              "      <td>0.0</td>\n",
              "      <td>0.0</td>\n",
              "      <td>0.0</td>\n",
              "    </tr>\n",
              "  </tbody>\n",
              "</table>\n",
              "</div>"
            ],
            "text/plain": [
              "Complaint Type  Blocked Driveway  HEAT/HOT WATER  Illegal Parking    Noise  \\\n",
              "Borough                                                                      \n",
              "BRONX                    24632.0         69085.0          16244.0   3057.0   \n",
              "BROOKLYN                 49390.0         66977.0          55478.0  15235.0   \n",
              "MANHATTAN                 3390.0         46156.0          19626.0  28753.0   \n",
              "QUEENS                   54891.0         29230.0          46714.0  11220.0   \n",
              "STATEN ISLAND             3794.0          2073.0           8060.0   1906.0   \n",
              "Unspecified                  0.0             0.0              0.0      0.0   \n",
              "\n",
              "Complaint Type  Noise - Residential  Noise - Street/Sidewalk  \\\n",
              "Borough                                                        \n",
              "BRONX                       57928.0                  14109.0   \n",
              "BROOKLYN                    67677.0                  21321.0   \n",
              "MANHATTAN                   50814.0                  29076.0   \n",
              "QUEENS                      46695.0                   7712.0   \n",
              "STATEN ISLAND                7037.0                    867.0   \n",
              "Unspecified                     1.0                      0.0   \n",
              "\n",
              "Complaint Type  Street Condition  Street Light Condition  \\\n",
              "Borough                                                    \n",
              "BRONX                    11181.0                  8421.0   \n",
              "BROOKLYN                 24890.0                 14558.0   \n",
              "MANHATTAN                14471.0                  2044.0   \n",
              "QUEENS                   32372.0                 52506.0   \n",
              "STATEN ISLAND            10351.0                  6666.0   \n",
              "Unspecified                  0.0                     0.0   \n",
              "\n",
              "Complaint Type  UNSANITARY CONDITION  Water System  \n",
              "Borough                                             \n",
              "BRONX                        24730.0        9996.0  \n",
              "BROOKLYN                     26654.0       19512.0  \n",
              "MANHATTAN                    14458.0       10646.0  \n",
              "QUEENS                       11489.0       19674.0  \n",
              "STATEN ISLAND                 1951.0        5272.0  \n",
              "Unspecified                      0.0           0.0  "
            ]
          },
          "metadata": {
            "tags": []
          },
          "execution_count": 120
        }
      ]
    },
    {
      "metadata": {
        "id": "8LM4wRVskqz-",
        "colab_type": "code",
        "colab": {}
      },
      "cell_type": "code",
      "source": [
        "# Output a generated CSV with the result to file '10_most_overall_Complaint types_for_Borough_2017.csv'\n",
        "\n",
        "temp_df.to_csv('10_most_overall_Complaint types_for_Borough_2017.csv', header = True)"
      ],
      "execution_count": 0,
      "outputs": []
    },
    {
      "metadata": {
        "id": "6vTCq4tBkq0H",
        "colab_type": "text"
      },
      "cell_type": "markdown",
      "source": [
        "###Part D - Find the 10 most populous zip codes that belong to boroughs of NYC from the US census data<br>\n",
        "The '2017 US Census Population'’ has zip codes with their corresponding population counts for all zip codes in the US; however, we need to extract the zip codes and respective populations that have matching zip code values in the  \"2017 Complaints \" CSV files.  One the zipcode values are matched up, take the greatest 10 as the 10 most populous zipcodes.  "
      ]
    },
    {
      "metadata": {
        "id": "bB0q57v3kq0J",
        "colab_type": "code",
        "outputId": "a33ed1ed-9076-465f-e1a4-4b69423ded8d",
        "colab": {
          "base_uri": "https://localhost:8080/",
          "height": 206
        }
      },
      "cell_type": "code",
      "source": [
        "# Read ZipCode_Population.csv to Pandas DataFrame zip_code_poplations\n",
        "\n",
        "zip_code_population = pd.read_csv('ZipCode_Population.csv', header = 0)\n",
        "zip_code_population.rename(columns = {'Zip Code ZCTA':'zip_code'}, inplace=True)\n",
        "zip_code_population.head()"
      ],
      "execution_count": 122,
      "outputs": [
        {
          "output_type": "execute_result",
          "data": {
            "text/html": [
              "<div>\n",
              "<style scoped>\n",
              "    .dataframe tbody tr th:only-of-type {\n",
              "        vertical-align: middle;\n",
              "    }\n",
              "\n",
              "    .dataframe tbody tr th {\n",
              "        vertical-align: top;\n",
              "    }\n",
              "\n",
              "    .dataframe thead th {\n",
              "        text-align: right;\n",
              "    }\n",
              "</style>\n",
              "<table border=\"1\" class=\"dataframe\">\n",
              "  <thead>\n",
              "    <tr style=\"text-align: right;\">\n",
              "      <th></th>\n",
              "      <th>zip_code</th>\n",
              "      <th>2017 Census Population</th>\n",
              "    </tr>\n",
              "  </thead>\n",
              "  <tbody>\n",
              "    <tr>\n",
              "      <th>0</th>\n",
              "      <td>1001</td>\n",
              "      <td>16769</td>\n",
              "    </tr>\n",
              "    <tr>\n",
              "      <th>1</th>\n",
              "      <td>1002</td>\n",
              "      <td>29049</td>\n",
              "    </tr>\n",
              "    <tr>\n",
              "      <th>2</th>\n",
              "      <td>1003</td>\n",
              "      <td>10372</td>\n",
              "    </tr>\n",
              "    <tr>\n",
              "      <th>3</th>\n",
              "      <td>1005</td>\n",
              "      <td>5079</td>\n",
              "    </tr>\n",
              "    <tr>\n",
              "      <th>4</th>\n",
              "      <td>1007</td>\n",
              "      <td>14649</td>\n",
              "    </tr>\n",
              "  </tbody>\n",
              "</table>\n",
              "</div>"
            ],
            "text/plain": [
              "   zip_code  2017 Census Population\n",
              "0      1001                   16769\n",
              "1      1002                   29049\n",
              "2      1003                   10372\n",
              "3      1005                    5079\n",
              "4      1007                   14649"
            ]
          },
          "metadata": {
            "tags": []
          },
          "execution_count": 122
        }
      ]
    },
    {
      "metadata": {
        "id": "uqx8WIiPkq0g",
        "colab_type": "code",
        "outputId": "4100c1e4-196d-4a34-cd1b-2d2726fc4222",
        "colab": {
          "base_uri": "https://localhost:8080/",
          "height": 73
        }
      },
      "cell_type": "code",
      "source": [
        "# Extract the list of all unique zip codes in the “Incident_zip” field\n",
        "\n",
        "all_unique_zip_codes = data['Incident Zip'].unique()\n",
        "all_unique_zip_codes[:20] #filter to 20 results"
      ],
      "execution_count": 123,
      "outputs": [
        {
          "output_type": "execute_result",
          "data": {
            "text/plain": [
              "array([11374.0, 11420.0, 11230.0, 10028.0, 10467.0, 10003.0, 11385.0,\n",
              "       11418.0, 10458.0, 11423.0, 11105.0, 10457.0, 11226.0, 10034.0,\n",
              "       10466.0, 11220.0, 11360.0, 10029.0, 11212.0, 11209.0], dtype=object)"
            ]
          },
          "metadata": {
            "tags": []
          },
          "execution_count": 123
        }
      ]
    },
    {
      "metadata": {
        "id": "X1OoVFtWkq0s",
        "colab_type": "code",
        "outputId": "e53deeda-a749-45e2-aa74-24e0c7c8ddc2",
        "colab": {
          "base_uri": "https://localhost:8080/",
          "height": 36
        }
      },
      "cell_type": "code",
      "source": [
        "print ('number of all unique zip codes in the \"Incident_zip\" is: ', len(all_unique_zip_codes))"
      ],
      "execution_count": 124,
      "outputs": [
        {
          "output_type": "stream",
          "text": [
            "number of all unique zip codes in the \"Incident_zip\" is:  909\n"
          ],
          "name": "stdout"
        }
      ]
    },
    {
      "metadata": {
        "id": "4dpH3pAkkq07",
        "colab_type": "code",
        "outputId": "b7435d03-91e9-45bf-b781-507c9aa671b8",
        "colab": {
          "base_uri": "https://localhost:8080/",
          "height": 36
        }
      },
      "cell_type": "code",
      "source": [
        "# and match them up with the values from the ‘ZipCode_Population’.\n",
        "\n",
        "zip_code_population[zip_code_population.zip_code.isin(all_unique_zip_codes)].shape[0]"
      ],
      "execution_count": 125,
      "outputs": [
        {
          "output_type": "execute_result",
          "data": {
            "text/plain": [
              "230"
            ]
          },
          "metadata": {
            "tags": []
          },
          "execution_count": 125
        }
      ]
    },
    {
      "metadata": {
        "id": "HkPDeyuqkq1B",
        "colab_type": "text"
      },
      "cell_type": "markdown",
      "source": [
        "**! DataFrame 'zip_code_populations' contains only 216 zip-codes from 265 in DataFrame 'data' with Complaints**<br>\n",
        "we have to redefine the 10 most popular zip codes with this in mind "
      ]
    },
    {
      "metadata": {
        "id": "1iRRf-gZkq1G",
        "colab_type": "code",
        "outputId": "9cdda4e5-550f-4211-e800-adf39b9cc538",
        "colab": {
          "base_uri": "https://localhost:8080/",
          "height": 363
        }
      },
      "cell_type": "code",
      "source": [
        "temp_df = zip_code_population[zip_code_population.zip_code.isin(all_unique_zip_codes)]\n",
        "temp_df.sort_values('2017 Census Population', ascending=False)[:10]\n",
        "#The 10 most populous zip codes are outputted below "
      ],
      "execution_count": 126,
      "outputs": [
        {
          "output_type": "execute_result",
          "data": {
            "text/html": [
              "<div>\n",
              "<style scoped>\n",
              "    .dataframe tbody tr th:only-of-type {\n",
              "        vertical-align: middle;\n",
              "    }\n",
              "\n",
              "    .dataframe tbody tr th {\n",
              "        vertical-align: top;\n",
              "    }\n",
              "\n",
              "    .dataframe thead th {\n",
              "        text-align: right;\n",
              "    }\n",
              "</style>\n",
              "<table border=\"1\" class=\"dataframe\">\n",
              "  <thead>\n",
              "    <tr style=\"text-align: right;\">\n",
              "      <th></th>\n",
              "      <th>zip_code</th>\n",
              "      <th>2017 Census Population</th>\n",
              "    </tr>\n",
              "  </thead>\n",
              "  <tbody>\n",
              "    <tr>\n",
              "      <th>2748</th>\n",
              "      <td>11368</td>\n",
              "      <td>109931</td>\n",
              "    </tr>\n",
              "    <tr>\n",
              "      <th>2720</th>\n",
              "      <td>11226</td>\n",
              "      <td>101572</td>\n",
              "    </tr>\n",
              "    <tr>\n",
              "      <th>2753</th>\n",
              "      <td>11373</td>\n",
              "      <td>100820</td>\n",
              "    </tr>\n",
              "    <tr>\n",
              "      <th>2714</th>\n",
              "      <td>11220</td>\n",
              "      <td>99598</td>\n",
              "    </tr>\n",
              "    <tr>\n",
              "      <th>2759</th>\n",
              "      <td>11385</td>\n",
              "      <td>98592</td>\n",
              "    </tr>\n",
              "    <tr>\n",
              "      <th>2527</th>\n",
              "      <td>10467</td>\n",
              "      <td>97060</td>\n",
              "    </tr>\n",
              "    <tr>\n",
              "      <th>2451</th>\n",
              "      <td>10025</td>\n",
              "      <td>94600</td>\n",
              "    </tr>\n",
              "    <tr>\n",
              "      <th>2702</th>\n",
              "      <td>11208</td>\n",
              "      <td>94469</td>\n",
              "    </tr>\n",
              "    <tr>\n",
              "      <th>2729</th>\n",
              "      <td>11236</td>\n",
              "      <td>93877</td>\n",
              "    </tr>\n",
              "    <tr>\n",
              "      <th>2701</th>\n",
              "      <td>11207</td>\n",
              "      <td>93386</td>\n",
              "    </tr>\n",
              "  </tbody>\n",
              "</table>\n",
              "</div>"
            ],
            "text/plain": [
              "      zip_code  2017 Census Population\n",
              "2748     11368                  109931\n",
              "2720     11226                  101572\n",
              "2753     11373                  100820\n",
              "2714     11220                   99598\n",
              "2759     11385                   98592\n",
              "2527     10467                   97060\n",
              "2451     10025                   94600\n",
              "2702     11208                   94469\n",
              "2729     11236                   93877\n",
              "2701     11207                   93386"
            ]
          },
          "metadata": {
            "tags": []
          },
          "execution_count": 126
        }
      ]
    },
    {
      "metadata": {
        "id": "jleq8ayboTP5",
        "colab_type": "code",
        "outputId": "fc80633e-9ddb-4b0f-fa66-59b2736ff4fc",
        "colab": {
          "base_uri": "https://localhost:8080/",
          "height": 36
        }
      },
      "cell_type": "code",
      "source": [
        "# Let's make sure everything is done right and  look at the number of unique zip codes\n",
        "\n",
        "temp_df.zip_code.nunique()"
      ],
      "execution_count": 127,
      "outputs": [
        {
          "output_type": "execute_result",
          "data": {
            "text/plain": [
              "230"
            ]
          },
          "metadata": {
            "tags": []
          },
          "execution_count": 127
        }
      ]
    },
    {
      "metadata": {
        "id": "6mKzWZoWkq1L",
        "colab_type": "code",
        "colab": {}
      },
      "cell_type": "code",
      "source": [
        "# Let's make array with 10 most populous zip codes\n",
        "\n",
        "ten_most_populous_zip_codes = temp_df.sort_values('2017 Census Population', ascending=False)[:10]['zip_code'].values"
      ],
      "execution_count": 0,
      "outputs": []
    },
    {
      "metadata": {
        "id": "-pCrCJCJkq1U",
        "colab_type": "text"
      },
      "cell_type": "markdown",
      "source": [
        "###<b>Part E -  Consider only the 10 most common overall complaint types for the 10 most populous zip codes found in Part D, how many of each of those 10  complaint types were there in 2017 for each of the 10 most populous zip codes.?<br>"
      ]
    },
    {
      "metadata": {
        "id": "Pt6pSHK1kq1Y",
        "colab_type": "code",
        "outputId": "62119f66-2bd9-4945-a172-7b242d19f16a",
        "colab": {
          "base_uri": "https://localhost:8080/",
          "height": 54
        }
      },
      "cell_type": "code",
      "source": [
        "print ('10 most populous zip codes in our data DataFrame with complaints: \\n', ten_most_populous_zip_codes )"
      ],
      "execution_count": 129,
      "outputs": [
        {
          "output_type": "stream",
          "text": [
            "10 most populous zip codes in our data DataFrame with complaints: \n",
            " [11368 11226 11373 11220 11385 10467 10025 11208 11236 11207]\n"
          ],
          "name": "stdout"
        }
      ]
    },
    {
      "metadata": {
        "id": "dqajhsoYkq1s",
        "colab_type": "code",
        "colab": {}
      },
      "cell_type": "code",
      "source": [
        "temp_df = data[(data['Complaint Type'].isin(com_top_10)) & (data['Incident Zip'].isin(ten_most_populous_zip_codes))]"
      ],
      "execution_count": 0,
      "outputs": []
    },
    {
      "metadata": {
        "id": "xaLizASjkq10",
        "colab_type": "code",
        "outputId": "d9f710f8-cfdf-481a-b038-c66b69bb5957",
        "colab": {
          "base_uri": "https://localhost:8080/",
          "height": 206
        }
      },
      "cell_type": "code",
      "source": [
        "temp_df.head()"
      ],
      "execution_count": 131,
      "outputs": [
        {
          "output_type": "execute_result",
          "data": {
            "text/html": [
              "<div>\n",
              "<style scoped>\n",
              "    .dataframe tbody tr th:only-of-type {\n",
              "        vertical-align: middle;\n",
              "    }\n",
              "\n",
              "    .dataframe tbody tr th {\n",
              "        vertical-align: top;\n",
              "    }\n",
              "\n",
              "    .dataframe thead th {\n",
              "        text-align: right;\n",
              "    }\n",
              "</style>\n",
              "<table border=\"1\" class=\"dataframe\">\n",
              "  <thead>\n",
              "    <tr style=\"text-align: right;\">\n",
              "      <th></th>\n",
              "      <th>Created Date</th>\n",
              "      <th>Complaint Type</th>\n",
              "      <th>Incident Zip</th>\n",
              "      <th>Borough</th>\n",
              "      <th>Latitude</th>\n",
              "      <th>Longitude</th>\n",
              "    </tr>\n",
              "  </thead>\n",
              "  <tbody>\n",
              "    <tr>\n",
              "      <th>294</th>\n",
              "      <td>10/09/2017 08:09:00 PM</td>\n",
              "      <td>Street Light Condition</td>\n",
              "      <td>11385</td>\n",
              "      <td>QUEENS</td>\n",
              "      <td>40.705772</td>\n",
              "      <td>-73.899963</td>\n",
              "    </tr>\n",
              "    <tr>\n",
              "      <th>371</th>\n",
              "      <td>11/06/2017 05:33:00 PM</td>\n",
              "      <td>Noise</td>\n",
              "      <td>11385</td>\n",
              "      <td>QUEENS</td>\n",
              "      <td>40.709026</td>\n",
              "      <td>-73.864191</td>\n",
              "    </tr>\n",
              "    <tr>\n",
              "      <th>421</th>\n",
              "      <td>12/08/2017 09:54:00 AM</td>\n",
              "      <td>Street Light Condition</td>\n",
              "      <td>11368</td>\n",
              "      <td>QUEENS</td>\n",
              "      <td>40.750671</td>\n",
              "      <td>-73.863096</td>\n",
              "    </tr>\n",
              "    <tr>\n",
              "      <th>458</th>\n",
              "      <td>12/30/2017 04:54:00 AM</td>\n",
              "      <td>Street Light Condition</td>\n",
              "      <td>11207</td>\n",
              "      <td>BROOKLYN</td>\n",
              "      <td>40.655833</td>\n",
              "      <td>-73.887535</td>\n",
              "    </tr>\n",
              "    <tr>\n",
              "      <th>574</th>\n",
              "      <td>10/30/2017 08:47:48 PM</td>\n",
              "      <td>UNSANITARY CONDITION</td>\n",
              "      <td>11373</td>\n",
              "      <td>QUEENS</td>\n",
              "      <td>40.745986</td>\n",
              "      <td>-73.872673</td>\n",
              "    </tr>\n",
              "  </tbody>\n",
              "</table>\n",
              "</div>"
            ],
            "text/plain": [
              "               Created Date          Complaint Type Incident Zip   Borough  \\\n",
              "294  10/09/2017 08:09:00 PM  Street Light Condition        11385    QUEENS   \n",
              "371  11/06/2017 05:33:00 PM                   Noise        11385    QUEENS   \n",
              "421  12/08/2017 09:54:00 AM  Street Light Condition        11368    QUEENS   \n",
              "458  12/30/2017 04:54:00 AM  Street Light Condition        11207  BROOKLYN   \n",
              "574  10/30/2017 08:47:48 PM    UNSANITARY CONDITION        11373    QUEENS   \n",
              "\n",
              "      Latitude  Longitude  \n",
              "294  40.705772 -73.899963  \n",
              "371  40.709026 -73.864191  \n",
              "421  40.750671 -73.863096  \n",
              "458  40.655833 -73.887535  \n",
              "574  40.745986 -73.872673  "
            ]
          },
          "metadata": {
            "tags": []
          },
          "execution_count": 131
        }
      ]
    },
    {
      "metadata": {
        "id": "oponyRpIkq2G",
        "colab_type": "code",
        "colab": {}
      },
      "cell_type": "code",
      "source": [
        "# These are our values, which should = to a 100.  \n",
        "\n",
        "temp_df = temp_df.groupby(['Incident Zip'])['Complaint Type'].value_counts().unstack()"
      ],
      "execution_count": 0,
      "outputs": []
    },
    {
      "metadata": {
        "id": "P8b_FrXdosWK",
        "colab_type": "code",
        "outputId": "2c570b5e-1410-49fe-80b4-5317c0ddf421",
        "colab": {
          "base_uri": "https://localhost:8080/",
          "height": 394
        }
      },
      "cell_type": "code",
      "source": [
        "temp_df"
      ],
      "execution_count": 133,
      "outputs": [
        {
          "output_type": "execute_result",
          "data": {
            "text/html": [
              "<div>\n",
              "<style scoped>\n",
              "    .dataframe tbody tr th:only-of-type {\n",
              "        vertical-align: middle;\n",
              "    }\n",
              "\n",
              "    .dataframe tbody tr th {\n",
              "        vertical-align: top;\n",
              "    }\n",
              "\n",
              "    .dataframe thead th {\n",
              "        text-align: right;\n",
              "    }\n",
              "</style>\n",
              "<table border=\"1\" class=\"dataframe\">\n",
              "  <thead>\n",
              "    <tr style=\"text-align: right;\">\n",
              "      <th>Complaint Type</th>\n",
              "      <th>Blocked Driveway</th>\n",
              "      <th>HEAT/HOT WATER</th>\n",
              "      <th>Illegal Parking</th>\n",
              "      <th>Noise</th>\n",
              "      <th>Noise - Residential</th>\n",
              "      <th>Noise - Street/Sidewalk</th>\n",
              "      <th>Street Condition</th>\n",
              "      <th>Street Light Condition</th>\n",
              "      <th>UNSANITARY CONDITION</th>\n",
              "      <th>Water System</th>\n",
              "    </tr>\n",
              "    <tr>\n",
              "      <th>Incident Zip</th>\n",
              "      <th></th>\n",
              "      <th></th>\n",
              "      <th></th>\n",
              "      <th></th>\n",
              "      <th></th>\n",
              "      <th></th>\n",
              "      <th></th>\n",
              "      <th></th>\n",
              "      <th></th>\n",
              "      <th></th>\n",
              "    </tr>\n",
              "  </thead>\n",
              "  <tbody>\n",
              "    <tr>\n",
              "      <th>10025.0</th>\n",
              "      <td>124</td>\n",
              "      <td>2396</td>\n",
              "      <td>728</td>\n",
              "      <td>1337</td>\n",
              "      <td>2079</td>\n",
              "      <td>1215</td>\n",
              "      <td>613</td>\n",
              "      <td>21</td>\n",
              "      <td>710</td>\n",
              "      <td>470</td>\n",
              "    </tr>\n",
              "    <tr>\n",
              "      <th>10467.0</th>\n",
              "      <td>2068</td>\n",
              "      <td>6037</td>\n",
              "      <td>985</td>\n",
              "      <td>282</td>\n",
              "      <td>5807</td>\n",
              "      <td>713</td>\n",
              "      <td>605</td>\n",
              "      <td>400</td>\n",
              "      <td>2168</td>\n",
              "      <td>554</td>\n",
              "    </tr>\n",
              "    <tr>\n",
              "      <th>11207.0</th>\n",
              "      <td>2058</td>\n",
              "      <td>2461</td>\n",
              "      <td>1495</td>\n",
              "      <td>199</td>\n",
              "      <td>3052</td>\n",
              "      <td>554</td>\n",
              "      <td>1127</td>\n",
              "      <td>897</td>\n",
              "      <td>1603</td>\n",
              "      <td>750</td>\n",
              "    </tr>\n",
              "    <tr>\n",
              "      <th>11208.0</th>\n",
              "      <td>2756</td>\n",
              "      <td>2051</td>\n",
              "      <td>2145</td>\n",
              "      <td>179</td>\n",
              "      <td>2788</td>\n",
              "      <td>821</td>\n",
              "      <td>804</td>\n",
              "      <td>551</td>\n",
              "      <td>1334</td>\n",
              "      <td>699</td>\n",
              "    </tr>\n",
              "    <tr>\n",
              "      <th>11220.0</th>\n",
              "      <td>1558</td>\n",
              "      <td>1632</td>\n",
              "      <td>2011</td>\n",
              "      <td>441</td>\n",
              "      <td>1521</td>\n",
              "      <td>498</td>\n",
              "      <td>677</td>\n",
              "      <td>593</td>\n",
              "      <td>708</td>\n",
              "      <td>671</td>\n",
              "    </tr>\n",
              "    <tr>\n",
              "      <th>11226.0</th>\n",
              "      <td>2203</td>\n",
              "      <td>7569</td>\n",
              "      <td>1072</td>\n",
              "      <td>431</td>\n",
              "      <td>4852</td>\n",
              "      <td>1831</td>\n",
              "      <td>481</td>\n",
              "      <td>193</td>\n",
              "      <td>3125</td>\n",
              "      <td>405</td>\n",
              "    </tr>\n",
              "    <tr>\n",
              "      <th>11236.0</th>\n",
              "      <td>3041</td>\n",
              "      <td>1143</td>\n",
              "      <td>1429</td>\n",
              "      <td>107</td>\n",
              "      <td>1928</td>\n",
              "      <td>201</td>\n",
              "      <td>1006</td>\n",
              "      <td>172</td>\n",
              "      <td>553</td>\n",
              "      <td>610</td>\n",
              "    </tr>\n",
              "    <tr>\n",
              "      <th>11368.0</th>\n",
              "      <td>4382</td>\n",
              "      <td>1619</td>\n",
              "      <td>1251</td>\n",
              "      <td>156</td>\n",
              "      <td>2460</td>\n",
              "      <td>684</td>\n",
              "      <td>553</td>\n",
              "      <td>421</td>\n",
              "      <td>632</td>\n",
              "      <td>607</td>\n",
              "    </tr>\n",
              "    <tr>\n",
              "      <th>11373.0</th>\n",
              "      <td>2635</td>\n",
              "      <td>3408</td>\n",
              "      <td>1277</td>\n",
              "      <td>266</td>\n",
              "      <td>1842</td>\n",
              "      <td>304</td>\n",
              "      <td>685</td>\n",
              "      <td>349</td>\n",
              "      <td>749</td>\n",
              "      <td>366</td>\n",
              "    </tr>\n",
              "    <tr>\n",
              "      <th>11385.0</th>\n",
              "      <td>3041</td>\n",
              "      <td>1521</td>\n",
              "      <td>4133</td>\n",
              "      <td>489</td>\n",
              "      <td>2609</td>\n",
              "      <td>606</td>\n",
              "      <td>1212</td>\n",
              "      <td>769</td>\n",
              "      <td>634</td>\n",
              "      <td>1231</td>\n",
              "    </tr>\n",
              "  </tbody>\n",
              "</table>\n",
              "</div>"
            ],
            "text/plain": [
              "Complaint Type  Blocked Driveway  HEAT/HOT WATER  Illegal Parking  Noise  \\\n",
              "Incident Zip                                                               \n",
              "10025.0                      124            2396              728   1337   \n",
              "10467.0                     2068            6037              985    282   \n",
              "11207.0                     2058            2461             1495    199   \n",
              "11208.0                     2756            2051             2145    179   \n",
              "11220.0                     1558            1632             2011    441   \n",
              "11226.0                     2203            7569             1072    431   \n",
              "11236.0                     3041            1143             1429    107   \n",
              "11368.0                     4382            1619             1251    156   \n",
              "11373.0                     2635            3408             1277    266   \n",
              "11385.0                     3041            1521             4133    489   \n",
              "\n",
              "Complaint Type  Noise - Residential  Noise - Street/Sidewalk  \\\n",
              "Incident Zip                                                   \n",
              "10025.0                        2079                     1215   \n",
              "10467.0                        5807                      713   \n",
              "11207.0                        3052                      554   \n",
              "11208.0                        2788                      821   \n",
              "11220.0                        1521                      498   \n",
              "11226.0                        4852                     1831   \n",
              "11236.0                        1928                      201   \n",
              "11368.0                        2460                      684   \n",
              "11373.0                        1842                      304   \n",
              "11385.0                        2609                      606   \n",
              "\n",
              "Complaint Type  Street Condition  Street Light Condition  \\\n",
              "Incident Zip                                               \n",
              "10025.0                      613                      21   \n",
              "10467.0                      605                     400   \n",
              "11207.0                     1127                     897   \n",
              "11208.0                      804                     551   \n",
              "11220.0                      677                     593   \n",
              "11226.0                      481                     193   \n",
              "11236.0                     1006                     172   \n",
              "11368.0                      553                     421   \n",
              "11373.0                      685                     349   \n",
              "11385.0                     1212                     769   \n",
              "\n",
              "Complaint Type  UNSANITARY CONDITION  Water System  \n",
              "Incident Zip                                        \n",
              "10025.0                          710           470  \n",
              "10467.0                         2168           554  \n",
              "11207.0                         1603           750  \n",
              "11208.0                         1334           699  \n",
              "11220.0                          708           671  \n",
              "11226.0                         3125           405  \n",
              "11236.0                          553           610  \n",
              "11368.0                          632           607  \n",
              "11373.0                          749           366  \n",
              "11385.0                          634          1231  "
            ]
          },
          "metadata": {
            "tags": []
          },
          "execution_count": 133
        }
      ]
    },
    {
      "metadata": {
        "id": "5r5iAzePnpOG",
        "colab_type": "code",
        "outputId": "24b895c8-1274-48ad-bb71-533759eb11c1",
        "colab": {
          "base_uri": "https://localhost:8080/",
          "height": 738
        }
      },
      "cell_type": "code",
      "source": [
        "temp_df[temp_df.columns].plot.bar(stacked=True, figsize = [12, 12])\n",
        "plt.title('Scores by Complaint Type and zip codes', fontsize=16)\n",
        "plt.xlabel('10 most populous zip codes', rotation=0, fontsize=14)\n",
        "plt.ylabel('Scores', rotation=0, fontsize=14)\n",
        "plt.xticks( rotation=0, fontsize=12)\n",
        "plt.yticks( rotation=0, fontsize=12)\n",
        "plt.legend(fontsize=12, loc = 1)\n",
        "plt.show()"
      ],
      "execution_count": 134,
      "outputs": [
        {
          "output_type": "display_data",
          "data": {
            "image/png": "[encoded data removed]",
            "text/plain": [
              "<Figure size 864x864 with 1 Axes>"
            ]
          },
          "metadata": {
            "tags": []
          }
        }
      ]
    },
    {
      "metadata": {
        "id": "J_bzM9Vhkq2P",
        "colab_type": "text"
      },
      "cell_type": "markdown",
      "source": [
        "###Part F - Considering all complaint types. Which boroughs are the biggest \"complainers\" relative to the size of the population in 2017? Meaning, calculate a complaint-index that adjusts for population of the borough."
      ]
    },
    {
      "metadata": {
        "id": "1NCHCqhJkq2Q",
        "colab_type": "code",
        "outputId": "d400bcff-9023-4b6e-d8a6-e0eafd5fd9c8",
        "colab": {
          "base_uri": "https://localhost:8080/",
          "height": 206
        }
      },
      "cell_type": "code",
      "source": [
        "data.head()"
      ],
      "execution_count": 135,
      "outputs": [
        {
          "output_type": "execute_result",
          "data": {
            "text/html": [
              "<div>\n",
              "<style scoped>\n",
              "    .dataframe tbody tr th:only-of-type {\n",
              "        vertical-align: middle;\n",
              "    }\n",
              "\n",
              "    .dataframe tbody tr th {\n",
              "        vertical-align: top;\n",
              "    }\n",
              "\n",
              "    .dataframe thead th {\n",
              "        text-align: right;\n",
              "    }\n",
              "</style>\n",
              "<table border=\"1\" class=\"dataframe\">\n",
              "  <thead>\n",
              "    <tr style=\"text-align: right;\">\n",
              "      <th></th>\n",
              "      <th>Created Date</th>\n",
              "      <th>Complaint Type</th>\n",
              "      <th>Incident Zip</th>\n",
              "      <th>Borough</th>\n",
              "      <th>Latitude</th>\n",
              "      <th>Longitude</th>\n",
              "    </tr>\n",
              "  </thead>\n",
              "  <tbody>\n",
              "    <tr>\n",
              "      <th>0</th>\n",
              "      <td>09/14/2017 04:40:33 PM</td>\n",
              "      <td>New Tree Request</td>\n",
              "      <td>11374</td>\n",
              "      <td>QUEENS</td>\n",
              "      <td>40.728620</td>\n",
              "      <td>-73.865295</td>\n",
              "    </tr>\n",
              "    <tr>\n",
              "      <th>1</th>\n",
              "      <td>03/18/2017 10:09:57 AM</td>\n",
              "      <td>General Construction/Plumbing</td>\n",
              "      <td>11420</td>\n",
              "      <td>QUEENS</td>\n",
              "      <td>40.680213</td>\n",
              "      <td>-73.821227</td>\n",
              "    </tr>\n",
              "    <tr>\n",
              "      <th>2</th>\n",
              "      <td>03/29/2017 12:38:28 PM</td>\n",
              "      <td>General Construction/Plumbing</td>\n",
              "      <td>11230</td>\n",
              "      <td>BROOKLYN</td>\n",
              "      <td>40.621648</td>\n",
              "      <td>-73.961658</td>\n",
              "    </tr>\n",
              "    <tr>\n",
              "      <th>3</th>\n",
              "      <td>06/05/2017 12:47:55 PM</td>\n",
              "      <td>New Tree Request</td>\n",
              "      <td>10028</td>\n",
              "      <td>MANHATTAN</td>\n",
              "      <td>40.772523</td>\n",
              "      <td>-73.949018</td>\n",
              "    </tr>\n",
              "    <tr>\n",
              "      <th>4</th>\n",
              "      <td>06/15/2017 11:56:36 AM</td>\n",
              "      <td>Dead/Dying Tree</td>\n",
              "      <td>10467</td>\n",
              "      <td>BRONX</td>\n",
              "      <td>40.875447</td>\n",
              "      <td>-73.876262</td>\n",
              "    </tr>\n",
              "  </tbody>\n",
              "</table>\n",
              "</div>"
            ],
            "text/plain": [
              "             Created Date                 Complaint Type Incident Zip  \\\n",
              "0  09/14/2017 04:40:33 PM               New Tree Request        11374   \n",
              "1  03/18/2017 10:09:57 AM  General Construction/Plumbing        11420   \n",
              "2  03/29/2017 12:38:28 PM  General Construction/Plumbing        11230   \n",
              "3  06/05/2017 12:47:55 PM               New Tree Request        10028   \n",
              "4  06/15/2017 11:56:36 AM                Dead/Dying Tree        10467   \n",
              "\n",
              "     Borough   Latitude  Longitude  \n",
              "0     QUEENS  40.728620 -73.865295  \n",
              "1     QUEENS  40.680213 -73.821227  \n",
              "2   BROOKLYN  40.621648 -73.961658  \n",
              "3  MANHATTAN  40.772523 -73.949018  \n",
              "4      BRONX  40.875447 -73.876262  "
            ]
          },
          "metadata": {
            "tags": []
          },
          "execution_count": 135
        }
      ]
    },
    {
      "metadata": {
        "id": "tTlELKO7ttji",
        "colab_type": "code",
        "outputId": "18e9edde-39c1-4a2b-d91d-08403adf30a2",
        "colab": {
          "base_uri": "https://localhost:8080/",
          "height": 206
        }
      },
      "cell_type": "code",
      "source": [
        "# From the data DataFrame calculate the total number of complaints by borough\n",
        "\n",
        "total_complaints_df = data['Borough'].value_counts().to_frame()\n",
        "total_complaints_df.rename(columns={'Borough':'Total_complaints_number'}, inplace= True)\n",
        "total_complaints_df.head()"
      ],
      "execution_count": 136,
      "outputs": [
        {
          "output_type": "execute_result",
          "data": {
            "text/html": [
              "<div>\n",
              "<style scoped>\n",
              "    .dataframe tbody tr th:only-of-type {\n",
              "        vertical-align: middle;\n",
              "    }\n",
              "\n",
              "    .dataframe tbody tr th {\n",
              "        vertical-align: top;\n",
              "    }\n",
              "\n",
              "    .dataframe thead th {\n",
              "        text-align: right;\n",
              "    }\n",
              "</style>\n",
              "<table border=\"1\" class=\"dataframe\">\n",
              "  <thead>\n",
              "    <tr style=\"text-align: right;\">\n",
              "      <th></th>\n",
              "      <th>Total_complaints_number</th>\n",
              "    </tr>\n",
              "  </thead>\n",
              "  <tbody>\n",
              "    <tr>\n",
              "      <th>BROOKLYN</th>\n",
              "      <td>746845</td>\n",
              "    </tr>\n",
              "    <tr>\n",
              "      <th>QUEENS</th>\n",
              "      <td>689738</td>\n",
              "    </tr>\n",
              "    <tr>\n",
              "      <th>MANHATTAN</th>\n",
              "      <td>460761</td>\n",
              "    </tr>\n",
              "    <tr>\n",
              "      <th>BRONX</th>\n",
              "      <td>434976</td>\n",
              "    </tr>\n",
              "    <tr>\n",
              "      <th>STATEN ISLAND</th>\n",
              "      <td>127860</td>\n",
              "    </tr>\n",
              "  </tbody>\n",
              "</table>\n",
              "</div>"
            ],
            "text/plain": [
              "               Total_complaints_number\n",
              "BROOKLYN                        746845\n",
              "QUEENS                          689738\n",
              "MANHATTAN                       460761\n",
              "BRONX                           434976\n",
              "STATEN ISLAND                   127860"
            ]
          },
          "metadata": {
            "tags": []
          },
          "execution_count": 136
        }
      ]
    },
    {
      "metadata": {
        "id": "uNkjNbeukq2g",
        "colab_type": "code",
        "outputId": "14a3c4b3-8b20-455c-b51b-9ce677aa023d",
        "colab": {
          "base_uri": "https://localhost:8080/",
          "height": 262
        }
      },
      "cell_type": "code",
      "source": [
        "# Lets calculate the quantity of Borough's populations\n",
        "\n",
        "temp_df = data[['Incident Zip','Borough']]\n",
        "temp_df.rename(columns = {'Incident Zip' : 'zip_code'}, inplace=True)\n",
        "temp_df.drop_duplicates(['zip_code'], inplace = True)\n",
        "\n",
        "display(temp_df.head())\n",
        "print (\"\\nDataFrame's temp_df shape is \", temp_df.shape)\n",
        "print (\"Number unique zip code in temp_df DataFrame is \", temp_df.zip_code.nunique())"
      ],
      "execution_count": 137,
      "outputs": [
        {
          "output_type": "display_data",
          "data": {
            "text/html": [
              "<div>\n",
              "<style scoped>\n",
              "    .dataframe tbody tr th:only-of-type {\n",
              "        vertical-align: middle;\n",
              "    }\n",
              "\n",
              "    .dataframe tbody tr th {\n",
              "        vertical-align: top;\n",
              "    }\n",
              "\n",
              "    .dataframe thead th {\n",
              "        text-align: right;\n",
              "    }\n",
              "</style>\n",
              "<table border=\"1\" class=\"dataframe\">\n",
              "  <thead>\n",
              "    <tr style=\"text-align: right;\">\n",
              "      <th></th>\n",
              "      <th>zip_code</th>\n",
              "      <th>Borough</th>\n",
              "    </tr>\n",
              "  </thead>\n",
              "  <tbody>\n",
              "    <tr>\n",
              "      <th>0</th>\n",
              "      <td>11374</td>\n",
              "      <td>QUEENS</td>\n",
              "    </tr>\n",
              "    <tr>\n",
              "      <th>1</th>\n",
              "      <td>11420</td>\n",
              "      <td>QUEENS</td>\n",
              "    </tr>\n",
              "    <tr>\n",
              "      <th>2</th>\n",
              "      <td>11230</td>\n",
              "      <td>BROOKLYN</td>\n",
              "    </tr>\n",
              "    <tr>\n",
              "      <th>3</th>\n",
              "      <td>10028</td>\n",
              "      <td>MANHATTAN</td>\n",
              "    </tr>\n",
              "    <tr>\n",
              "      <th>4</th>\n",
              "      <td>10467</td>\n",
              "      <td>BRONX</td>\n",
              "    </tr>\n",
              "  </tbody>\n",
              "</table>\n",
              "</div>"
            ],
            "text/plain": [
              "  zip_code    Borough\n",
              "0    11374     QUEENS\n",
              "1    11420     QUEENS\n",
              "2    11230   BROOKLYN\n",
              "3    10028  MANHATTAN\n",
              "4    10467      BRONX"
            ]
          },
          "metadata": {
            "tags": []
          }
        },
        {
          "output_type": "stream",
          "text": [
            "\n",
            "DataFrame's temp_df shape is  (909, 2)\n",
            "Number unique zip code in temp_df DataFrame is  908\n"
          ],
          "name": "stdout"
        }
      ]
    },
    {
      "metadata": {
        "id": "YQaZvMIRkq2m",
        "colab_type": "code",
        "outputId": "29e2e1c3-5b4a-4657-e77b-8d50492f0a1d",
        "colab": {
          "base_uri": "https://localhost:8080/",
          "height": 112
        }
      },
      "cell_type": "code",
      "source": [
        "zip_code_population.head(2)"
      ],
      "execution_count": 138,
      "outputs": [
        {
          "output_type": "execute_result",
          "data": {
            "text/html": [
              "<div>\n",
              "<style scoped>\n",
              "    .dataframe tbody tr th:only-of-type {\n",
              "        vertical-align: middle;\n",
              "    }\n",
              "\n",
              "    .dataframe tbody tr th {\n",
              "        vertical-align: top;\n",
              "    }\n",
              "\n",
              "    .dataframe thead th {\n",
              "        text-align: right;\n",
              "    }\n",
              "</style>\n",
              "<table border=\"1\" class=\"dataframe\">\n",
              "  <thead>\n",
              "    <tr style=\"text-align: right;\">\n",
              "      <th></th>\n",
              "      <th>zip_code</th>\n",
              "      <th>2017 Census Population</th>\n",
              "    </tr>\n",
              "  </thead>\n",
              "  <tbody>\n",
              "    <tr>\n",
              "      <th>0</th>\n",
              "      <td>1001</td>\n",
              "      <td>16769</td>\n",
              "    </tr>\n",
              "    <tr>\n",
              "      <th>1</th>\n",
              "      <td>1002</td>\n",
              "      <td>29049</td>\n",
              "    </tr>\n",
              "  </tbody>\n",
              "</table>\n",
              "</div>"
            ],
            "text/plain": [
              "   zip_code  2017 Census Population\n",
              "0      1001                   16769\n",
              "1      1002                   29049"
            ]
          },
          "metadata": {
            "tags": []
          },
          "execution_count": 138
        }
      ]
    },
    {
      "metadata": {
        "id": "npIXnmiAkq2t",
        "colab_type": "code",
        "outputId": "6d11da5a-7c5a-4aeb-d7d1-5db956805f09",
        "colab": {
          "base_uri": "https://localhost:8080/",
          "height": 206
        }
      },
      "cell_type": "code",
      "source": [
        "temp_df = pd.merge(temp_df, zip_code_population, how = 'left', on= 'zip_code' )\n",
        "temp_df['2017 Census Population'].fillna(0, inplace=True)\n",
        "temp_df.head()"
      ],
      "execution_count": 139,
      "outputs": [
        {
          "output_type": "execute_result",
          "data": {
            "text/html": [
              "<div>\n",
              "<style scoped>\n",
              "    .dataframe tbody tr th:only-of-type {\n",
              "        vertical-align: middle;\n",
              "    }\n",
              "\n",
              "    .dataframe tbody tr th {\n",
              "        vertical-align: top;\n",
              "    }\n",
              "\n",
              "    .dataframe thead th {\n",
              "        text-align: right;\n",
              "    }\n",
              "</style>\n",
              "<table border=\"1\" class=\"dataframe\">\n",
              "  <thead>\n",
              "    <tr style=\"text-align: right;\">\n",
              "      <th></th>\n",
              "      <th>zip_code</th>\n",
              "      <th>Borough</th>\n",
              "      <th>2017 Census Population</th>\n",
              "    </tr>\n",
              "  </thead>\n",
              "  <tbody>\n",
              "    <tr>\n",
              "      <th>0</th>\n",
              "      <td>11374</td>\n",
              "      <td>QUEENS</td>\n",
              "      <td>43600.0</td>\n",
              "    </tr>\n",
              "    <tr>\n",
              "      <th>1</th>\n",
              "      <td>11420</td>\n",
              "      <td>QUEENS</td>\n",
              "      <td>44354.0</td>\n",
              "    </tr>\n",
              "    <tr>\n",
              "      <th>2</th>\n",
              "      <td>11230</td>\n",
              "      <td>BROOKLYN</td>\n",
              "      <td>86408.0</td>\n",
              "    </tr>\n",
              "    <tr>\n",
              "      <th>3</th>\n",
              "      <td>10028</td>\n",
              "      <td>MANHATTAN</td>\n",
              "      <td>45141.0</td>\n",
              "    </tr>\n",
              "    <tr>\n",
              "      <th>4</th>\n",
              "      <td>10467</td>\n",
              "      <td>BRONX</td>\n",
              "      <td>97060.0</td>\n",
              "    </tr>\n",
              "  </tbody>\n",
              "</table>\n",
              "</div>"
            ],
            "text/plain": [
              "  zip_code    Borough  2017 Census Population\n",
              "0    11374     QUEENS                 43600.0\n",
              "1    11420     QUEENS                 44354.0\n",
              "2    11230   BROOKLYN                 86408.0\n",
              "3    10028  MANHATTAN                 45141.0\n",
              "4    10467      BRONX                 97060.0"
            ]
          },
          "metadata": {
            "tags": []
          },
          "execution_count": 139
        }
      ]
    },
    {
      "metadata": {
        "id": "SNqJULaQkq2w",
        "colab_type": "code",
        "outputId": "36a284fe-4862-495c-a514-620da361fe81",
        "colab": {
          "base_uri": "https://localhost:8080/",
          "height": 237
        }
      },
      "cell_type": "code",
      "source": [
        "# Final dataset with quantity populations of Boroughs\n",
        "\n",
        "borough_population_df = temp_df[['Borough', '2017 Census Population']].groupby('Borough')['2017 Census Population'].sum().to_frame()\n",
        "borough_population_df.head()"
      ],
      "execution_count": 140,
      "outputs": [
        {
          "output_type": "execute_result",
          "data": {
            "text/html": [
              "<div>\n",
              "<style scoped>\n",
              "    .dataframe tbody tr th:only-of-type {\n",
              "        vertical-align: middle;\n",
              "    }\n",
              "\n",
              "    .dataframe tbody tr th {\n",
              "        vertical-align: top;\n",
              "    }\n",
              "\n",
              "    .dataframe thead th {\n",
              "        text-align: right;\n",
              "    }\n",
              "</style>\n",
              "<table border=\"1\" class=\"dataframe\">\n",
              "  <thead>\n",
              "    <tr style=\"text-align: right;\">\n",
              "      <th></th>\n",
              "      <th>2017 Census Population</th>\n",
              "    </tr>\n",
              "    <tr>\n",
              "      <th>Borough</th>\n",
              "      <th></th>\n",
              "    </tr>\n",
              "  </thead>\n",
              "  <tbody>\n",
              "    <tr>\n",
              "      <th>BRONX</th>\n",
              "      <td>1394915.0</td>\n",
              "    </tr>\n",
              "    <tr>\n",
              "      <th>BROOKLYN</th>\n",
              "      <td>2504700.0</td>\n",
              "    </tr>\n",
              "    <tr>\n",
              "      <th>MANHATTAN</th>\n",
              "      <td>1577376.0</td>\n",
              "    </tr>\n",
              "    <tr>\n",
              "      <th>QUEENS</th>\n",
              "      <td>2311269.0</td>\n",
              "    </tr>\n",
              "    <tr>\n",
              "      <th>STATEN ISLAND</th>\n",
              "      <td>468730.0</td>\n",
              "    </tr>\n",
              "  </tbody>\n",
              "</table>\n",
              "</div>"
            ],
            "text/plain": [
              "               2017 Census Population\n",
              "Borough                              \n",
              "BRONX                       1394915.0\n",
              "BROOKLYN                    2504700.0\n",
              "MANHATTAN                   1577376.0\n",
              "QUEENS                      2311269.0\n",
              "STATEN ISLAND                468730.0"
            ]
          },
          "metadata": {
            "tags": []
          },
          "execution_count": 140
        }
      ]
    },
    {
      "metadata": {
        "id": "Q46q9sh5kq26",
        "colab_type": "code",
        "outputId": "705e882b-0f45-4742-fb76-97641ac1f9e5",
        "colab": {
          "base_uri": "https://localhost:8080/",
          "height": 237
        }
      },
      "cell_type": "code",
      "source": [
        "# Let's merge two DataFrames\n",
        "\n",
        "complaint_index_df = pd.merge(borough_population_df, total_complaints_df, how = 'left', left_index=True, right_index=True)\n",
        "complaint_index_df['2017 Census Population'] = complaint_index_df['2017 Census Population'].astype('int')\n",
        "complaint_index_df.head()"
      ],
      "execution_count": 141,
      "outputs": [
        {
          "output_type": "execute_result",
          "data": {
            "text/html": [
              "<div>\n",
              "<style scoped>\n",
              "    .dataframe tbody tr th:only-of-type {\n",
              "        vertical-align: middle;\n",
              "    }\n",
              "\n",
              "    .dataframe tbody tr th {\n",
              "        vertical-align: top;\n",
              "    }\n",
              "\n",
              "    .dataframe thead th {\n",
              "        text-align: right;\n",
              "    }\n",
              "</style>\n",
              "<table border=\"1\" class=\"dataframe\">\n",
              "  <thead>\n",
              "    <tr style=\"text-align: right;\">\n",
              "      <th></th>\n",
              "      <th>2017 Census Population</th>\n",
              "      <th>Total_complaints_number</th>\n",
              "    </tr>\n",
              "    <tr>\n",
              "      <th>Borough</th>\n",
              "      <th></th>\n",
              "      <th></th>\n",
              "    </tr>\n",
              "  </thead>\n",
              "  <tbody>\n",
              "    <tr>\n",
              "      <th>BRONX</th>\n",
              "      <td>1394915</td>\n",
              "      <td>434976</td>\n",
              "    </tr>\n",
              "    <tr>\n",
              "      <th>BROOKLYN</th>\n",
              "      <td>2504700</td>\n",
              "      <td>746845</td>\n",
              "    </tr>\n",
              "    <tr>\n",
              "      <th>MANHATTAN</th>\n",
              "      <td>1577376</td>\n",
              "      <td>460761</td>\n",
              "    </tr>\n",
              "    <tr>\n",
              "      <th>QUEENS</th>\n",
              "      <td>2311269</td>\n",
              "      <td>689738</td>\n",
              "    </tr>\n",
              "    <tr>\n",
              "      <th>STATEN ISLAND</th>\n",
              "      <td>468730</td>\n",
              "      <td>127860</td>\n",
              "    </tr>\n",
              "  </tbody>\n",
              "</table>\n",
              "</div>"
            ],
            "text/plain": [
              "               2017 Census Population  Total_complaints_number\n",
              "Borough                                                       \n",
              "BRONX                         1394915                   434976\n",
              "BROOKLYN                      2504700                   746845\n",
              "MANHATTAN                     1577376                   460761\n",
              "QUEENS                        2311269                   689738\n",
              "STATEN ISLAND                  468730                   127860"
            ]
          },
          "metadata": {
            "tags": []
          },
          "execution_count": 141
        }
      ]
    },
    {
      "metadata": {
        "id": "hU_GcDkTkq2-",
        "colab_type": "code",
        "outputId": "f91c8154-9ccb-48d7-88bf-2ce68a60851c",
        "colab": {
          "base_uri": "https://localhost:8080/",
          "height": 237
        }
      },
      "cell_type": "code",
      "source": [
        "# And calculate complaint ratio to the size of the population of each borough \n",
        "\n",
        "complaint_index_df['ratio']= complaint_index_df['Total_complaints_number']/complaint_index_df['2017 Census Population']\n",
        "complaint_index_df.sort_values('ratio', ascending=False).head()"
      ],
      "execution_count": 142,
      "outputs": [
        {
          "output_type": "execute_result",
          "data": {
            "text/html": [
              "<div>\n",
              "<style scoped>\n",
              "    .dataframe tbody tr th:only-of-type {\n",
              "        vertical-align: middle;\n",
              "    }\n",
              "\n",
              "    .dataframe tbody tr th {\n",
              "        vertical-align: top;\n",
              "    }\n",
              "\n",
              "    .dataframe thead th {\n",
              "        text-align: right;\n",
              "    }\n",
              "</style>\n",
              "<table border=\"1\" class=\"dataframe\">\n",
              "  <thead>\n",
              "    <tr style=\"text-align: right;\">\n",
              "      <th></th>\n",
              "      <th>2017 Census Population</th>\n",
              "      <th>Total_complaints_number</th>\n",
              "      <th>ratio</th>\n",
              "    </tr>\n",
              "    <tr>\n",
              "      <th>Borough</th>\n",
              "      <th></th>\n",
              "      <th></th>\n",
              "      <th></th>\n",
              "    </tr>\n",
              "  </thead>\n",
              "  <tbody>\n",
              "    <tr>\n",
              "      <th>BRONX</th>\n",
              "      <td>1394915</td>\n",
              "      <td>434976</td>\n",
              "      <td>0.311830</td>\n",
              "    </tr>\n",
              "    <tr>\n",
              "      <th>QUEENS</th>\n",
              "      <td>2311269</td>\n",
              "      <td>689738</td>\n",
              "      <td>0.298424</td>\n",
              "    </tr>\n",
              "    <tr>\n",
              "      <th>BROOKLYN</th>\n",
              "      <td>2504700</td>\n",
              "      <td>746845</td>\n",
              "      <td>0.298177</td>\n",
              "    </tr>\n",
              "    <tr>\n",
              "      <th>MANHATTAN</th>\n",
              "      <td>1577376</td>\n",
              "      <td>460761</td>\n",
              "      <td>0.292106</td>\n",
              "    </tr>\n",
              "    <tr>\n",
              "      <th>STATEN ISLAND</th>\n",
              "      <td>468730</td>\n",
              "      <td>127860</td>\n",
              "      <td>0.272780</td>\n",
              "    </tr>\n",
              "  </tbody>\n",
              "</table>\n",
              "</div>"
            ],
            "text/plain": [
              "               2017 Census Population  Total_complaints_number     ratio\n",
              "Borough                                                                 \n",
              "BRONX                         1394915                   434976  0.311830\n",
              "QUEENS                        2311269                   689738  0.298424\n",
              "BROOKLYN                      2504700                   746845  0.298177\n",
              "MANHATTAN                     1577376                   460761  0.292106\n",
              "STATEN ISLAND                  468730                   127860  0.272780"
            ]
          },
          "metadata": {
            "tags": []
          },
          "execution_count": 142
        }
      ]
    },
    {
      "metadata": {
        "id": "FsBgT6P9DKdK",
        "colab_type": "code",
        "outputId": "fc718839-5dbc-4b6f-9502-c80c7aa05646",
        "colab": {
          "base_uri": "https://localhost:8080/",
          "height": 517
        }
      },
      "cell_type": "code",
      "source": [
        "complaint_index_df['ratio'].plot.bar(figsize = [8, 8])\n",
        "plt.title('Complaint ratio to boroughs population', fontsize=16)\n",
        "plt.xlabel('Borough', rotation=0, fontsize=12)\n",
        "plt.ylabel('ratio', rotation=90, fontsize=14)\n",
        "plt.xticks( rotation=0, fontsize=10)\n",
        "plt.yticks( rotation=0, fontsize=12)\n",
        "plt.show()"
      ],
      "execution_count": 144,
      "outputs": [
        {
          "output_type": "display_data",
          "data": {
            "image/png": "[encoded data removed]",
            "text/plain": [
              "<Figure size 576x576 with 1 Axes>"
            ]
          },
          "metadata": {
            "tags": []
          }
        }
      ]
    }
  ]
}